{
  "cells": [
    {
      "cell_type": "markdown",
      "metadata": {
        "id": "view-in-github",
        "colab_type": "text"
      },
      "source": [
        "<a href=\"https://colab.research.google.com/github/daliaezzat/ASOC_paper_code/blob/main/Phase_2_Optimization_phase.ipynb\" target=\"_parent\"><img src=\"https://colab.research.google.com/assets/colab-badge.svg\" alt=\"Open In Colab\"/></a>"
      ]
    },
    {
      "cell_type": "code",
      "execution_count": null,
      "metadata": {
        "id": "EiVCx8PB6w-S"
      },
      "outputs": [],
      "source": [
        "!pip install PyDrive"
      ]
    },
    {
      "cell_type": "code",
      "execution_count": null,
      "metadata": {
        "id": "tcyWTnNr6_7e"
      },
      "outputs": [],
      "source": [
        "import os\n",
        "from pydrive.auth import GoogleAuth\n",
        "from pydrive.drive import GoogleDrive\n",
        "from google.colab import auth\n",
        "from oauth2client.client import GoogleCredentials"
      ]
    },
    {
      "cell_type": "code",
      "execution_count": null,
      "metadata": {
        "id": "lOpyNBfYqZtN"
      },
      "outputs": [],
      "source": [
        "auth.authenticate_user()\n",
        "gauth = GoogleAuth()\n",
        "gauth.credentials = GoogleCredentials.get_application_default()\n",
        "drive = GoogleDrive(gauth)"
      ]
    },
    {
      "cell_type": "code",
      "execution_count": null,
      "metadata": {
        "id": "f8MpK6Hc7J_M"
      },
      "outputs": [],
      "source": [
        "download = drive.CreateFile({'id': '1cA_rOXord2kQgzyxCNGfJi4CYOdDvG7F'})\n",
        "download.GetContentFile('breast_cancer.zip')"
      ]
    },
    {
      "cell_type": "code",
      "execution_count": null,
      "metadata": {
        "id": "amKPmaki7NYJ"
      },
      "outputs": [],
      "source": [
        "import zipfile\n",
        "import io\n",
        "data = zipfile.ZipFile('breast_cancer.zip', 'r')\n",
        "data.extractall()"
      ]
    },
    {
      "cell_type": "code",
      "execution_count": null,
      "metadata": {
        "id": "GMxITnUz7PXY"
      },
      "outputs": [],
      "source": [
        "train_dir = '/content/ratio_IDC3_breasr_cancer/train'\n",
        "validation_dir = '/content/ratio_IDC3_breasr_cancer/validation'\n",
        "test_dir = '/content/ratio_IDC3_breasr_cancer/test'"
      ]
    },
    {
      "cell_type": "code",
      "execution_count": null,
      "metadata": {
        "id": "gLWZNY5M-YGF"
      },
      "outputs": [],
      "source": [
        "download = drive.CreateFile({'id': '1C_9d-reZM-Xn1yw3R-d7NhWqvqG5edzg'})\n",
        "download.GetContentFile('root.py')"
      ]
    },
    {
      "cell_type": "code",
      "execution_count": null,
      "metadata": {
        "id": "wNepTHxm-kuw"
      },
      "outputs": [],
      "source": [
        "download = drive.CreateFile({'id': '1RfyAWotNIVC3xXAaGtOkJhmu_1a0A5N9'})\n",
        "download.GetContentFile('SMA.py')\n"
      ]
    },
    {
      "cell_type": "code",
      "execution_count": null,
      "metadata": {
        "id": "uVyU7mjZxn1j"
      },
      "outputs": [],
      "source": [
        "def F1(DR):\n",
        "    import numpy as np\n",
        "    print(\"droupout_rate=\")\n",
        "    DR=round(min(DR),4)\n",
        "    print(DR)\n",
        "    image_size=280\n",
        "    BS=32\n",
        "    #----------------------------------------data preprocessing ---------------------------------------------\n",
        "    from keras.preprocessing.image import ImageDataGenerator\n",
        "    from keras.callbacks import ModelCheckpoint,EarlyStopping\n",
        "    from sklearn.utils import class_weight\n",
        "\n",
        "    train_datagen=ImageDataGenerator(rescale = 1./255.,\n",
        "                                 rotation_range = 10,\n",
        "                                 width_shift_range = 0.2,\n",
        "                                 height_shift_range = 0.2,\n",
        "                                 shear_range = 0.3,\n",
        "                                 zoom_range = 0.25,\n",
        "                                 horizontal_flip = True,\n",
        "                                fill_mode='nearest')\n",
        "\n",
        "    test_datagen=ImageDataGenerator(rescale=1./255)\n",
        "    train_generator=train_datagen.flow_from_directory(train_dir,\n",
        "                                                  target_size=(image_size,image_size),\n",
        "                                                  batch_size=BS,\n",
        "                                                  class_mode='categorical')\n",
        "\n",
        "    validation_generator=test_datagen.flow_from_directory(validation_dir,\n",
        "                                                      target_size=(image_size,image_size),\n",
        "                                                      batch_size=BS,\n",
        "                                                      class_mode='categorical')\n",
        "\n",
        "    #----------------------------------------------model------------------------------------------------------\n",
        "    from tensorflow.keras import layers,optimizers\n",
        "    from tensorflow.keras import models\n",
        "    from tensorflow.keras.applications import VGG16\n",
        "    from tensorflow.keras.regularizers import l2\n",
        "    from tensorflow.keras.layers import Activation\n",
        "    from sklearn.utils import compute_class_weight\n",
        "    import numpy as np\n",
        "\n",
        "    conv_base = VGG16(weights='imagenet',include_top=False,input_shape=(image_size,image_size, 3))\n",
        "    conv_base.summary()\n",
        "\n",
        "    for i, layer in enumerate(conv_base.layers):\n",
        "      print(i, layer.name)\n",
        "\n",
        "    conv_base.trainable=False\n",
        "    model = models.Sequential()\n",
        "    model.add(conv_base)\n",
        "    model.add(layers.Flatten())\n",
        "    model.add(layers.Dense(100,activation='relu')) #kant l2=0.00001\n",
        "    model.add(layers.Dropout(DR))\n",
        "    model.add(layers.Dense(2,activation='softmax'))\n",
        "\n",
        "    checkpointer = ModelCheckpoint(filepath='pretrained.weights.best.hdf5',monitor='val_loss', verbose = 1, save_best_only=True)\n",
        "    early = EarlyStopping(monitor='val_acc', min_delta=0, patience=20, verbose=1, mode='auto',restore_best_weights=True)\n",
        "    train_classes=train_generator.classes\n",
        "    class_weights = compute_class_weight(\n",
        "                                        class_weight = \"balanced\",\n",
        "                                        classes = np.unique(train_classes),\n",
        "                                        y = train_classes)\n",
        "    class_weights = dict(zip(np.unique(train_classes), class_weights))\n",
        "    model.compile(optimizer=optimizers.Adam(lr=2e-5),loss='categorical_crossentropy',metrics=['accuracy'])\n",
        "    history=model.fit_generator(train_generator,\n",
        "                    steps_per_epoch=train_generator.samples/train_generator.batch_size,\n",
        "                    epochs=5,\n",
        "                    validation_data=validation_generator,\n",
        "                    validation_steps=validation_generator.samples/train_generator.batch_size,\n",
        "                    verbose=1,\n",
        "                    class_weight=class_weights,\n",
        "                    callbacks=[checkpointer,early])\n",
        "\n",
        "    val_loss=history.history['val_loss']\n",
        "    print (round(min(val_loss),4))\n",
        "    return (round(min(val_loss),4))"
      ]
    },
    {
      "cell_type": "code",
      "execution_count": null,
      "metadata": {
        "id": "Yf9wHjMO7GLP"
      },
      "outputs": [],
      "source": [
        "from SMA import BaseSMA, OriginalSMA\n",
        "from numpy import sum, pi, exp, sqrt, cos\n",
        "\n",
        "\n",
        "def func_sum(solution):\n",
        "    return sum(solution ** 2)\n",
        "lb = [0.1]\n",
        "ub = [0.9]\n",
        "problem_size = 1\n",
        "obj_func = F1\n",
        "verbose = True\n",
        "epoch = 10\n",
        "pop_size = 15\n",
        "md1 = BaseSMA(obj_func, lb, ub, problem_size, verbose, epoch, pop_size)\n",
        "best_pos1, best_fit1, list_loss1 = md1.train()\n",
        "print(md1.solution[0])\n",
        "print(md1.solution[1])\n",
        "print(md1.loss_train)\n",
        "md2 = OriginalSMA(obj_func, lb, ub, problem_size, verbose, epoch, pop_size)\n",
        "best_pos2, best_fit2, list_loss2 = md2.train()\n",
        "print(best_pos2)\n",
        "print(best_fit2)\n",
        "print(list_loss2)"
      ]
    }
  ],
  "metadata": {
    "colab": {
      "provenance": [],
      "gpuType": "T4",
      "authorship_tag": "ABX9TyM0OkldXL85LqbruA+WlEKr",
      "include_colab_link": true
    },
    "kernelspec": {
      "display_name": "Python 3",
      "name": "python3"
    },
    "language_info": {
      "name": "python"
    },
    "accelerator": "GPU"
  },
  "nbformat": 4,
  "nbformat_minor": 0
}